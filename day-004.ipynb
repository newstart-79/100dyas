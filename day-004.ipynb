{
 "cells": [
  {
   "cell_type": "code",
   "execution_count": 1,
   "metadata": {},
   "outputs": [],
   "source": [
    "# 时间 2019年8月9日11:24:28\n",
    "# 今天工作量： 003-004\n",
    "# 循环结构"
   ]
  },
  {
   "cell_type": "code",
   "execution_count": null,
   "metadata": {},
   "outputs": [],
   "source": [
    "# while:\n",
    "# for i in range(num): \n",
    "# for --in结构，明确循环的次数，或者对某个容器进行循环，\n",
    "\"\"\"\n",
    "# 其中经常使用到range函数，\n",
    "# range(101)可以产生一个0到100的整数序列。\n",
    "# range(1, 100)可以产生一个1到99的整数序列。\n",
    "# range(1, 100, 2)可以产生一个1到99的奇数序列，其中的2是步长，即数值序列的增量。\n",
    "\n",
    "\"\"\""
   ]
  },
  {
   "cell_type": "code",
   "execution_count": 9,
   "metadata": {},
   "outputs": [
    {
     "name": "stdout",
     "output_type": "stream",
     "text": [
      "请输入数字：52\n",
      "输入的数据太小\n",
      "请输入数字：85\n",
      "输入的数据太大\n",
      "请输入数字：70\n",
      "输入的数据太大\n",
      "请输入数字：65\n",
      "输入的数据太大\n",
      "请输入数字：60\n",
      "输入的数据太大\n",
      "请输入数字：55\n",
      "输入的数据太大\n",
      "请输入数字：54\n",
      "输入的数据太大\n",
      "请输入数字：53\n",
      "恭喜你猜对了!\n",
      "你总共回答了8次\n",
      "你的智商过人！\n"
     ]
    }
   ],
   "source": [
    "# 练习1. 猜数游戏\n",
    "import random\n",
    "anser = random.randint(1,100)\n",
    "count = 0\n",
    "while True:\n",
    "    count +=1\n",
    "    num = int(input('请输入数字：'))\n",
    "    if num > anser:\n",
    "        print('输入的数据太大')\n",
    "    elif num < anser:\n",
    "        print('输入的数据太小')\n",
    "    else:\n",
    "        print('恭喜你猜对了!')\n",
    "        break \n",
    "print('你总共回答了{}次'.format(count))\n",
    "if count<=8:\n",
    "    print('你的智商过人！')\n",
    "elif count <= 20:\n",
    "    print('你智商正常')\n",
    "else:\n",
    "    print('你智商。。。。')\n",
    "    \n",
    "    "
   ]
  },
  {
   "cell_type": "code",
   "execution_count": null,
   "metadata": {},
   "outputs": [],
   "source": []
  }
 ],
 "metadata": {
  "kernelspec": {
   "display_name": "Python [conda env:tf2]",
   "language": "python",
   "name": "conda-env-tf2-py"
  },
  "language_info": {
   "codemirror_mode": {
    "name": "ipython",
    "version": 3
   },
   "file_extension": ".py",
   "mimetype": "text/x-python",
   "name": "python",
   "nbconvert_exporter": "python",
   "pygments_lexer": "ipython3",
   "version": "3.7.3"
  }
 },
 "nbformat": 4,
 "nbformat_minor": 2
}
