{
 "cells": [
  {
   "cell_type": "code",
   "execution_count": 1,
   "metadata": {},
   "outputs": [],
   "source": [
    "# 时间 2019年8月12日10:40:43\n",
    "# 函数和模块的使用\n",
    "# 开始整理时间 2019年8月15日10:53:12"
   ]
  },
  {
   "cell_type": "code",
   "execution_count": null,
   "metadata": {},
   "outputs": [],
   "source": [
    "# 函数使用\n",
    "# def 函数名称（参数）\n",
    "\"\"\"\n",
    "# 盲点：\n",
    "# def name(* args)  # 前边加*表示，输入的参数的个数是不确定的\n",
    "\"\"\"\n"
   ]
  },
  {
   "cell_type": "code",
   "execution_count": null,
   "metadata": {},
   "outputs": [],
   "source": [
    "# 模块使用， 在python中没有函数的重载\n",
    "\n",
    "#不同的py文件中可以命名相同的函数，\n",
    "# import model1.foo as foo1\n",
    "# import model2.foo as foo2\n",
    "\n",
    "# from model1 import foo as foo1\n",
    "# from model2 import foo as foo2\n",
    "\n",
    "# 明确需重新命名，否则最近的会将之前的覆盖"
   ]
  }
 ],
 "metadata": {
  "kernelspec": {
   "display_name": "Python [conda env:tf2]",
   "language": "python",
   "name": "conda-env-tf2-py"
  },
  "language_info": {
   "codemirror_mode": {
    "name": "ipython",
    "version": 3
   },
   "file_extension": ".py",
   "mimetype": "text/x-python",
   "name": "python",
   "nbconvert_exporter": "python",
   "pygments_lexer": "ipython3",
   "version": "3.7.3"
  }
 },
 "nbformat": 4,
 "nbformat_minor": 2
}
