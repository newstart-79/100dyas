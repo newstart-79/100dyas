{
 "cells": [
  {
   "cell_type": "markdown",
   "metadata": {},
   "source": [
    "时间：2019年8月22日13:38:03\n",
    "# 文件和异常      "
   ]
  },
  {
   "cell_type": "code",
   "execution_count": null,
   "metadata": {},
   "outputs": [],
   "source": [
    "# 时间:2019年8月23日16:51:22"
   ]
  },
  {
   "cell_type": "code",
   "execution_count": null,
   "metadata": {},
   "outputs": [],
   "source": [
    "# 文件操作\n",
    "\"r\" 读\n",
    "\"w\" 写入，会先截断之前的内容\n",
    "\"x\" 写入，如果文件已经存在，则报错\n",
    "\"a\" 追加，将内容写入已经存在的文件之后\n",
    "\"b\" 二进制模式\n",
    "\"t\" 文本模式，默认\n",
    "'+' 更新操作，可以读写多功能相加"
   ]
  },
  {
   "cell_type": "code",
   "execution_count": null,
   "metadata": {},
   "outputs": [],
   "source": [
    "# 读写文本文件\n",
    "def main():\n",
    "    file = open('a.txt','r',encoding='utf-8') # 打开，encoding 指定编码\n",
    "    print(file.read())\n",
    "    file.close() # 关闭\n",
    "\n",
    "def main_1():\n",
    "    # 一次性读取所有文件\n",
    "    with open('a.txt','r',encoding='utf-8') as f:\n",
    "        print(f.read())\n",
    "    # 多次循环读取\n",
    "    with open('a.txt','r',encoding='utf-8') as f:\n",
    "        for line in f:\n",
    "            print(line,end='')\n",
    "        "
   ]
  }
 ],
 "metadata": {
  "kernelspec": {
   "display_name": "Python [conda env:tf2]",
   "language": "python",
   "name": "conda-env-tf2-py"
  },
  "language_info": {
   "codemirror_mode": {
    "name": "ipython",
    "version": 3
   },
   "file_extension": ".py",
   "mimetype": "text/x-python",
   "name": "python",
   "nbconvert_exporter": "python",
   "pygments_lexer": "ipython3",
   "version": "3.7.3"
  }
 },
 "nbformat": 4,
 "nbformat_minor": 2
}
