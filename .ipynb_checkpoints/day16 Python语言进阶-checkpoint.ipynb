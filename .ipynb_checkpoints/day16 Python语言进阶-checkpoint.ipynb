{
 "cells": [
  {
   "cell_type": "code",
   "execution_count": 2,
   "metadata": {},
   "outputs": [],
   "source": [
    "def select_sort(origin_items,comp=lambda x,y:x<y):\n",
    "    \"\"\"  简单选择排序\"\"\"\n",
    "    items = origin_items[:]\n",
    "    for i in range(len(items)-1):\n",
    "        min_index = i\n",
    "        for j in range(i+1,len(items)):\n",
    "            if comp(items[j],items[min_index]):\n",
    "                min_index = j\n",
    "        items[i],items[min_index]=items[min_index],items[i]\n",
    "    return items"
   ]
  },
  {
   "cell_type": "code",
   "execution_count": 3,
   "metadata": {},
   "outputs": [
    {
     "name": "stdout",
     "output_type": "stream",
     "text": [
      "[4, 5, 6, 12, 0, 3, 5, 77, 99, 1]\n",
      "[0, 1, 3, 4, 5, 5, 6, 12, 77, 99]\n"
     ]
    }
   ],
   "source": [
    "origin_items =[4,5,6,12,0,3,5,77,99,1]\n",
    "print(origin_items)\n",
    "sort_items =select_sort(origin_items)\n",
    "print(sort_items)"
   ]
  },
  {
   "cell_type": "code",
   "execution_count": 6,
   "metadata": {},
   "outputs": [
    {
     "data": {
      "text/plain": [
       "False"
      ]
     },
     "execution_count": 6,
     "metadata": {},
     "output_type": "execute_result"
    }
   ],
   "source": [
    "# lambda 的使用\n",
    "sort_test = (lambda x,y:x<y)(9,5)\n",
    "sort_test"
   ]
  },
  {
   "cell_type": "code",
   "execution_count": 8,
   "metadata": {},
   "outputs": [
    {
     "name": "stdout",
     "output_type": "stream",
     "text": [
      "[False, False, False, False, False, False, False, False, False, False]\n",
      "[True, True, True, False, True, True, True, True, False]\n",
      "[True, True, False, False, True, True, True, False]\n",
      "[True, False, False, False, True, True, False]\n",
      "[False, False, False, True, True, False]\n",
      "[False, False, True, True, True]\n",
      "[True, True, True, False]\n",
      "[True, True, False]\n",
      "[True, False]\n",
      "[False]\n"
     ]
    }
   ],
   "source": [
    "# list(map(lambda x,y:x<y,origin_items))\n",
    "for i in range(len(origin_items)):\n",
    "    min_index = i\n",
    "    sort_other = origin_items[i:]\n",
    "    a1 = map(lambda x,y:x<y,origin_items,sort_other)\n",
    "    print(list(a1))"
   ]
  },
  {
   "cell_type": "code",
   "execution_count": 1,
   "metadata": {},
   "outputs": [],
   "source": [
    "import pandas as pd\n",
    "import numpy as np"
   ]
  },
  {
   "cell_type": "code",
   "execution_count": null,
   "metadata": {},
   "outputs": [],
   "source": [
    "data = pd."
   ]
  },
  {
   "cell_type": "code",
   "execution_count": null,
   "metadata": {},
   "outputs": [],
   "source": [
    "def trend_judge_other(self, df, start, end):\n",
    "    # 判断开始和结束时间段的，开始之间的时间段是有下降趋势，结束之后时间段是否上升趋势\n",
    "\n",
    "    df = _diff_smooth(df)  # 平滑处理\n",
    "    df_diff = df.diff()\n",
    "    other_s,other_e = [],[]\n",
    "    for i in range(len(start)):\n",
    "        time_s = start[i]\n",
    "        time_e = end[i]\n",
    "\n",
    "        # lower = df_diff.loc[time_s+timedelta(hours=1)] # 下降\n",
    "        # upper = df_diff.loc[time_e-timedelta(hours=1)]  # 上升\n",
    "\n",
    "        # 判断依据的点数据\n",
    "        lower = df_diff.loc[time_s]  # 下降\n",
    "        upper = df_diff.loc[time_e]  # 上升\n",
    "        # Flag = True\n",
    "        Fs, Fe = True, True\n",
    "        sn, en = 1, 1\n",
    "\n",
    "        while Fs:\n",
    "\n",
    "            if time_s - timedelta(hours=sn) < df.index.tolist()[0]:\n",
    "                # 开始时间点为整体数据的开始位置\n",
    "                # time_0 = time_s\n",
    "                other_s.append(time_s)\n",
    "                Fs = False\n",
    "            else:\n",
    "                s_before = df_diff.loc[time_s]\n",
    "                s_later = df_diff.loc[time_s + timedelta(hours=sn)]\n",
    "                if (s_before >= lower) & (s_later >= lower):\n",
    "                    other_s.append(time_s-timedelta(hours=sn))\n",
    "                    Fs = False\n",
    "                else:\n",
    "                    en +=1\n",
    "\n",
    "        while Fe:\n",
    "            if time_e + timedelta(hours=en) < df.index.tolist()[-1]:\n",
    "                # 开始时间点为整体数据的开始位置\n",
    "                # time_1 = time_e\n",
    "                other_e.append(time_e)\n",
    "                Fe = False\n",
    "            else:\n",
    "                e_before = df_diff[time_e - timedelta(hours=en)]\n",
    "                e_later = df_diff[time_e]\n",
    "                if (e_before < upper) & (e_later < upper):\n",
    "                    other_s.append(time_s + timedelta(hours=en))\n",
    "                    Fe = False\n",
    "                else:\n",
    "                    en += 1\n",
    "\n",
    "    return other_s, other_e"
   ]
  },
  {
   "cell_type": "code",
   "execution_count": null,
   "metadata": {
    "collapsed": true
   },
   "outputs": [],
   "source": [
    "while Flag:\n",
    "\n",
    "    if time_s - timedelta(hours=n) < df.index.tolist()[0]:\n",
    "        # 开始时间点为整体数据的开始位置\n",
    "        time_0 = time_s\n",
    "        other_s.append(time_s)\n",
    "    else:\n",
    "        s_before = df_diff.loc[time_s]\n",
    "        s_later = df_diff.loc[time_s + timedelta(hours=n)]\n",
    "        if (s_before >= lower) & (s_later >= lower):\n",
    "            other_s.append(time_s-timedelta(hours=n))\n",
    "        else:\n",
    "            n += 1"
   ]
  }
 ],
 "metadata": {
  "kernelspec": {
   "display_name": "Python [conda env:root] *",
   "language": "python",
   "name": "conda-root-py"
  },
  "language_info": {
   "codemirror_mode": {
    "name": "ipython",
    "version": 3
   },
   "file_extension": ".py",
   "mimetype": "text/x-python",
   "name": "python",
   "nbconvert_exporter": "python",
   "pygments_lexer": "ipython3",
   "version": "3.7.0"
  }
 },
 "nbformat": 4,
 "nbformat_minor": 1
}
