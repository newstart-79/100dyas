{
 "cells": [
  {
   "cell_type": "markdown",
   "metadata": {},
   "source": [
    "面向对象编程基础"
   ]
  },
  {
   "cell_type": "raw",
   "metadata": {},
   "source": [
    "#  2019年8月22日10:27:59   day-008\n",
    "封装、继承和多态"
   ]
  },
  {
   "cell_type": "raw",
   "metadata": {},
   "source": [
    "类、方法\n",
    "# 属性和方法有两种访问权限，共有和私有\n",
    "# 对于方法和属性的可见性，表示可以直接访问，在属相和方法前加两个下划线，设置为私有\n",
    "# 注意：设置为私有权限，可以更换名字访问，在时间开发的过程中并不建议使用这个中方法，可以是有单下划线表示属相和方法是受保护的，\n",
    "# 在这个类外的其他地方使用需要慎重 "
   ]
  },
  {
   "cell_type": "code",
   "execution_count": 1,
   "metadata": {},
   "outputs": [
    {
     "name": "stdout",
     "output_type": "stream",
     "text": [
      "hello\n",
      "__bar\n",
      "hello\n"
     ]
    }
   ],
   "source": [
    "class Test:\n",
    "\n",
    "    def __init__(self, foo):\n",
    "        self.__foo = foo\n",
    "\n",
    "    def __bar(self):\n",
    "        print(self.__foo)\n",
    "        print('__bar')\n",
    "\n",
    "\n",
    "def main(): # 无法访问\n",
    "    test = Test('hello')\n",
    "    # AttributeError: 'Test' object has no attribute '__bar'\n",
    "    test.__bar()\n",
    "    # AttributeError: 'Test' object has no attribute '__foo'\n",
    "    print(test.__foo)\n",
    "    \n",
    "def main1(): # 可以访问\n",
    "    test = Test('hello')\n",
    "    test._Test__bar()  # 需要添加列名称和方法名称  形式：（_类__方法）\n",
    "    print(test._Test__foo)\n",
    "\n",
    "\n",
    "if __name__ == \"__main__\":\n",
    "#     main()\n",
    "    main1()"
   ]
  },
  {
   "cell_type": "code",
   "execution_count": null,
   "metadata": {},
   "outputs": [
    {
     "name": "stdout",
     "output_type": "stream",
     "text": [
      "10:16:23\n",
      "10:16:24\n",
      "10:16:25\n",
      "10:16:26\n",
      "10:16:27\n",
      "10:16:28\n",
      "10:16:29\n",
      "10:16:30\n",
      "10:16:31\n",
      "10:16:32\n",
      "10:16:33\n",
      "10:16:34\n",
      "10:16:35\n",
      "10:16:36\n",
      "10:16:37\n"
     ]
    }
   ],
   "source": [
    "# 练习1. 定义一个类描述数字时钟\n",
    "import datetime\n",
    "from time import sleep\n",
    "class Clock(object):\n",
    "    def __init__(self,hours=0,minture=0,sencond=0):\n",
    "        self._hours = hours\n",
    "        self._minture = minture\n",
    "        self._sencond = sencond\n",
    "    def _run(self):\n",
    "        self._sencond += 1\n",
    "        if self._sencond == 60:\n",
    "            self._minture += 1\n",
    "            self._sencond = 0 \n",
    "            if self._minture == 60:\n",
    "                self._hours += 1\n",
    "                self._minture = 0\n",
    "                if self._hours== 24:\n",
    "                    self._hours=0\n",
    "    def show(self):\n",
    "        print(\"时间：{}:{}:{}\".format(self._hours,self._minture,self._sencond))\n",
    "#         return '%02d:%02d:%02d' % \\\n",
    "#                (self._hours, self._minture, self._sencond)\n",
    "def main():\n",
    "    clock = Clock(10,16,23)\n",
    "    while True:\n",
    "        print(clock.show())\n",
    "        sleep(1)\n",
    "        clock._run()\n",
    "    \n",
    "main()"
   ]
  },
  {
   "cell_type": "code",
   "execution_count": 3,
   "metadata": {},
   "outputs": [
    {
     "data": {
      "text/plain": [
       "datetime.datetime(2019, 8, 22, 10, 15, 20, 440419)"
      ]
     },
     "execution_count": 3,
     "metadata": {},
     "output_type": "execute_result"
    }
   ],
   "source": [
    "import datetime\n",
    "now = datetime.datetime.now()\n",
    "now"
   ]
  },
  {
   "cell_type": "code",
   "execution_count": 2,
   "metadata": {},
   "outputs": [
    {
     "name": "stdout",
     "output_type": "stream",
     "text": [
      "time.struct_time(tm_year=2019, tm_mon=8, tm_mday=22, tm_hour=10, tm_min=56, tm_sec=33, tm_wday=3, tm_yday=234, tm_isdst=0)\n",
      "10 56 33\n"
     ]
    }
   ],
   "source": [
    "from time import localtime,time,sleep\n",
    "ctime = localtime(time())  # time 获取当前时间点\n",
    "print(ctime)\n",
    "print(ctime.tm_hour, ctime.tm_min, ctime.tm_sec)"
   ]
  },
  {
   "cell_type": "code",
   "execution_count": null,
   "metadata": {},
   "outputs": [],
   "source": []
  }
 ],
 "metadata": {
  "kernelspec": {
   "display_name": "Python [conda env:tf2]",
   "language": "python",
   "name": "conda-env-tf2-py"
  },
  "language_info": {
   "codemirror_mode": {
    "name": "ipython",
    "version": 3
   },
   "file_extension": ".py",
   "mimetype": "text/x-python",
   "name": "python",
   "nbconvert_exporter": "python",
   "pygments_lexer": "ipython3",
   "version": "3.7.3"
  }
 },
 "nbformat": 4,
 "nbformat_minor": 2
}
