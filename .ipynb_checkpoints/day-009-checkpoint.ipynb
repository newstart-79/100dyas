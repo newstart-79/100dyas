{
 "cells": [
  {
   "cell_type": "markdown",
   "metadata": {},
   "source": [
    " 面向对象进阶\n",
    " 时间： 1. 2019年8月20日09:52:26\n",
    "      2.2019年8月22日10:24:07"
   ]
  },
  {
   "cell_type": "code",
   "execution_count": null,
   "metadata": {},
   "outputs": [],
   "source": [
    "@property装饰器 \n",
    "# 如果想要访问受保护的属性，可通过getter和setter方法进行操作，可以@property装饰器来装饰，getter和setter方法实现操作"
   ]
  },
  {
   "cell_type": "code",
   "execution_count": 7,
   "metadata": {},
   "outputs": [
    {
     "name": "stdout",
     "output_type": "stream",
     "text": [
      "王小二正在玩飞行棋.\n",
      "王小二正在玩斗地主.\n",
      "白元芳正在玩斗地主.\n"
     ]
    }
   ],
   "source": [
    "class Person(object):\n",
    "\n",
    "    def __init__(self, name, age):\n",
    "        self._name = name\n",
    "        self._age = age\n",
    "\n",
    "    # 访问器 - getter方法\n",
    "    @property\n",
    "    def name(self):\n",
    "        return self._name\n",
    "\n",
    "    # 访问器 - getter方法\n",
    "    @property\n",
    "    def age(self):\n",
    "        return self._age\n",
    "\n",
    "    # 修改器 - setter方法\n",
    "    @age.setter\n",
    "    def age(self, age):\n",
    "        self._age = age\n",
    "    \n",
    "    # 修改器 - setter方法\n",
    "    @name.setter\n",
    "    def name(self,name):\n",
    "        self._name = name\n",
    "        \n",
    "\n",
    "    def play(self):\n",
    "        if self._age <= 16:\n",
    "            print('%s正在玩飞行棋.' % self._name)\n",
    "        else:\n",
    "            print('%s正在玩斗地主.' % self._name)\n",
    "\n",
    "\n",
    "def main():\n",
    "    person = Person('王小二', 16)\n",
    "    person.play()\n",
    "    person.age = 22\n",
    "    person.play()\n",
    "    person.name = '白元芳'  # AttributeError: can't set attribute\n",
    "    person.play()\n",
    "\n",
    "\n",
    "if __name__ == '__main__':\n",
    "    main()"
   ]
  },
  {
   "cell_type": "markdown",
   "metadata": {},
   "source": [
    "__slots__魔法\n",
    "通常，动态语言允许我们在程序运行时给对象绑定新的属性或方法，当然也可以对已经绑定的属性和方法进行解绑定。\n",
    "但是如果我们需要限定自定义类型的对象只能绑定某些属性，可以通过在类中定义__slots__变量来进行限定。\n",
    "需要注意的是__slots__的限定只对当前类的对象生效，对子类并不起任何作用"
   ]
  },
  {
   "cell_type": "code",
   "execution_count": 11,
   "metadata": {},
   "outputs": [
    {
     "name": "stdout",
     "output_type": "stream",
     "text": [
      "王大锤正在玩斗地主.\n",
      "王大锤正在玩斗地主.\n"
     ]
    },
    {
     "ename": "AttributeError",
     "evalue": "'Person' object has no attribute '_is_gay'",
     "output_type": "error",
     "traceback": [
      "\u001b[1;31m---------------------------------------------------------------------------\u001b[0m",
      "\u001b[1;31mAttributeError\u001b[0m                            Traceback (most recent call last)",
      "\u001b[1;32m<ipython-input-11-fee6dd7d226b>\u001b[0m in \u001b[0;36m<module>\u001b[1;34m\u001b[0m\n\u001b[0;32m     35\u001b[0m \u001b[1;31m#     AttributeError: 'Person' object has no attribute '_is_gay'\u001b[0m\u001b[1;33m\u001b[0m\u001b[1;33m\u001b[0m\u001b[1;33m\u001b[0m\u001b[0m\n\u001b[0;32m     36\u001b[0m     \u001b[0mperson\u001b[0m\u001b[1;33m.\u001b[0m\u001b[0m_is_gay\u001b[0m \u001b[1;33m=\u001b[0m \u001b[1;32mTrue\u001b[0m\u001b[1;33m\u001b[0m\u001b[1;33m\u001b[0m\u001b[0m\n\u001b[1;32m---> 37\u001b[1;33m \u001b[0mmain\u001b[0m\u001b[1;33m(\u001b[0m\u001b[1;33m)\u001b[0m\u001b[1;33m\u001b[0m\u001b[1;33m\u001b[0m\u001b[0m\n\u001b[0m",
      "\u001b[1;32m<ipython-input-11-fee6dd7d226b>\u001b[0m in \u001b[0;36mmain\u001b[1;34m()\u001b[0m\n\u001b[0;32m     34\u001b[0m     \u001b[0mperson\u001b[0m\u001b[1;33m.\u001b[0m\u001b[0mplay\u001b[0m\u001b[1;33m(\u001b[0m\u001b[1;33m)\u001b[0m\u001b[1;33m\u001b[0m\u001b[1;33m\u001b[0m\u001b[0m\n\u001b[0;32m     35\u001b[0m \u001b[1;31m#     AttributeError: 'Person' object has no attribute '_is_gay'\u001b[0m\u001b[1;33m\u001b[0m\u001b[1;33m\u001b[0m\u001b[1;33m\u001b[0m\u001b[0m\n\u001b[1;32m---> 36\u001b[1;33m     \u001b[0mperson\u001b[0m\u001b[1;33m.\u001b[0m\u001b[0m_is_gay\u001b[0m \u001b[1;33m=\u001b[0m \u001b[1;32mTrue\u001b[0m\u001b[1;33m\u001b[0m\u001b[1;33m\u001b[0m\u001b[0m\n\u001b[0m\u001b[0;32m     37\u001b[0m \u001b[0mmain\u001b[0m\u001b[1;33m(\u001b[0m\u001b[1;33m)\u001b[0m\u001b[1;33m\u001b[0m\u001b[1;33m\u001b[0m\u001b[0m\n",
      "\u001b[1;31mAttributeError\u001b[0m: 'Person' object has no attribute '_is_gay'"
     ]
    }
   ],
   "source": [
    "# __slots__魔法\n",
    "class Person(object):\n",
    "\n",
    "    # 限定Person对象只能绑定_name, _age和_gender属性\n",
    "    __slots__ = ('_name', '_age', '_gender')\n",
    "\n",
    "    def __init__(self, name, age):\n",
    "        self._name = name\n",
    "        self._age = age\n",
    "\n",
    "    @property\n",
    "    def name(self):\n",
    "        return self._name\n",
    "\n",
    "    @property\n",
    "    def age(self):\n",
    "        return self._age\n",
    "\n",
    "    @age.setter\n",
    "    def age(self, age):\n",
    "        self._age = age\n",
    "\n",
    "    def play(self):\n",
    "        if self._age <= 16:\n",
    "            print('%s正在玩飞行棋.' % self._name)\n",
    "        else:\n",
    "            print('%s正在玩斗地主.' % self._name)\n",
    "\n",
    "\n",
    "def main():\n",
    "    person = Person('王大锤', 22)\n",
    "    person.play()\n",
    "    person._gender = '男'\n",
    "    person.play()\n",
    "#     AttributeError: 'Person' object has no attribute '_is_gay'\n",
    "    person._is_gay = True  # 无法对其修改\n",
    "main()"
   ]
  },
  {
   "cell_type": "markdown",
   "metadata": {},
   "source": [
    "概念补充： 对象方法、静态方法、类方法\n",
    "对象方法：是类中直接定义的方法\n",
    "静态方法：在类中并不是对象方法 \n",
    "类方法：和静态方法类似都是定义在类内的，第一个参数为（cls），表示与类相关的方法，\n",
    "Python还可以在类中定义类方法，类方法的第一个参数约定名为cls，它代表的是当前类相关的信息的对象（类本身也是一个对象，有的地方也称之为类的元数据对象），通过这个参数我们可以获取和类相关的信息并且可以创建出类的对象\n",
    "\n",
    "Python从语法层面并没有像Java或C#那样提供对抽象类的支持，但是我们可以通过abc模块的ABCMeta元类和abstractmethod包装器来达到抽象类的效果，\n",
    "如果一个类中存在抽象方法那么这个类就不能够实例化（创建对象）。"
   ]
  },
  {
   "cell_type": "markdown",
   "metadata": {},
   "source": [
    "类之间的关系：类之间有：is-a、has-a和use-a关系三种关系\n",
    "\n",
    "1. is-a关系也叫继承或泛化，比如学生和人的关系、手机和电子产品的关系都属于继承关系。\n",
    "\n",
    "2. has-a关系通常称之为关联，比如部门和员工的关系，汽车和引擎的关系都属于关联关系；关联关系如果是整体和部分的关联，那么我们称之为聚合关系；如果整体进一步负责了部分的生命周期（整体和部分是不可分割的，同时同在也同时消亡），那么这种就是最强的关联关系，我们称之为合成关系。\n",
    "\n",
    "3. use-a关系通常称之为依赖，比如司机有一个驾驶的行为（方法），其中（的参数）使用到了汽车，那么司机和汽车的关系就是依赖关系。"
   ]
  },
  {
   "cell_type": "markdown",
   "metadata": {},
   "source": [
    "继承和多态\n",
    "继承： 在以有类的基础上，创建新类，可让新类从另一类哪里直接继承方法和属性，提供继承的为父类，继承的为子类，子类可以重新定义自己的方法和属性，因此子类超前父类；子类可以对父类已有的方法给出新的版本，此行为成为重写（override）,通过重写可以让父类的同一个行为，在不同的子类中有不同的实现版本，不同的子类有不同的表现行为，此称之为多态（ploy-morphism）\n"
   ]
  },
  {
   "cell_type": "code",
   "execution_count": 14,
   "metadata": {},
   "outputs": [
    {
     "name": "stdout",
     "output_type": "stream",
     "text": [
      "旺财: 汪汪汪...\n",
      "凯蒂: 喵...喵...\n",
      "大黄: 汪汪汪...\n"
     ]
    }
   ],
   "source": [
    "from abc import ABCMeta, abstractmethod\n",
    "\n",
    "# python中通过abc模块的ABCMeta元类和abstractmethod包装器来达到抽象类的效果，\n",
    "# 如果一个类中存在抽象方法那么这个类就不能够实例化（创建对象）\n",
    "class Pet(object, metaclass=ABCMeta):  # 该类为一个抽象类，抽象类是不能创建对象的类，该类的存在就是为让其他类进行继承\n",
    "    \"\"\"宠物\"\"\"\n",
    "\n",
    "    def __init__(self, nickname):\n",
    "        self._nickname = nickname\n",
    "\n",
    "    @abstractmethod  # 抽象方法，存在抽象方法的类也无法创建对象\n",
    "    def make_voice(self):\n",
    "        \"\"\"发出声音\"\"\"\n",
    "        print('发出声音')\n",
    "#         pass\n",
    "\n",
    "\n",
    "class Dog(Pet):\n",
    "    \"\"\"狗\"\"\"\n",
    "\n",
    "    def make_voice(self):\n",
    "        print('%s: 汪汪汪...' % self._nickname)\n",
    "\n",
    "\n",
    "class Cat(Pet):\n",
    "    \"\"\"猫\"\"\"\n",
    "\n",
    "    def make_voice(self):\n",
    "        print('%s: 喵...喵...' % self._nickname)\n",
    "\n",
    "\n",
    "def main():\n",
    "    pets = [Dog('旺财'), Cat('凯蒂'), Dog('大黄')]\n",
    "    for pet in pets:\n",
    "        pet.make_voice()\n",
    "\n",
    "\n",
    "if __name__ == '__main__':\n",
    "    main()"
   ]
  },
  {
   "cell_type": "code",
   "execution_count": null,
   "metadata": {},
   "outputs": [],
   "source": [
    "# 练习三个，可以尝试编写，实现更多功能！"
   ]
  }
 ],
 "metadata": {
  "kernelspec": {
   "display_name": "Python [conda env:tf2]",
   "language": "python",
   "name": "conda-env-tf2-py"
  },
  "language_info": {
   "codemirror_mode": {
    "name": "ipython",
    "version": 3
   },
   "file_extension": ".py",
   "mimetype": "text/x-python",
   "name": "python",
   "nbconvert_exporter": "python",
   "pygments_lexer": "ipython3",
   "version": "3.7.3"
  }
 },
 "nbformat": 4,
 "nbformat_minor": 2
}
