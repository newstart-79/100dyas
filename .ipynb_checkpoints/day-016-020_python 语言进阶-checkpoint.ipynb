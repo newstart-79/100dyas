{
 "cells": [
  {
   "cell_type": "markdown",
   "metadata": {},
   "source": [
    "# 时间  2019年9月5日13:36:40\n",
    "\"\"\"\n",
    "评鉴算法的好坏：渐进时间复杂和渐进空间复杂度\n",
    "\n",
    "\n",
    "渐近时间复杂度的大O标记：\n",
    "\n",
    " O(c) 常量时间复杂度 - 布隆过滤器 / 哈希存储\n",
    " \n",
    " O(log2n) 对数时间复杂度 - 折半查找（二分查找）\n",
    " \n",
    " O(n) 线性时间复杂度 - 顺序查找 / 桶排序\n",
    " \n",
    " O(n*log2n) 对数线性时间复杂度 - 高级排序算法（归并排序、快速排序）\n",
    " \n",
    " O(n2) 平方时间复杂度 - 简单排序算法（选择排序、插入排序、冒泡排序）\n",
    " \n",
    " O(n3) 立方时间复杂度 - Floyd算法 / 矩阵乘法运算\n",
    " \n",
    " O(2n) 几何级数时间复杂度 - 汉诺塔\n",
    " \n",
    " O(n!) 阶乘时间复杂度 - 旅行经销商问题 - NP \n",
    " \n",
    "\n",
    "\"\"\""
   ]
  },
  {
   "cell_type": "code",
   "execution_count": null,
   "metadata": {},
   "outputs": [],
   "source": [
    "import numpy as np\n",
    "import time"
   ]
  },
  {
   "cell_type": "code",
   "execution_count": 26,
   "metadata": {},
   "outputs": [],
   "source": [
    "# 排序方法 【冒泡排序】\n",
    "def select_sort(origin_item,camp=lambda x,y: x<y):\n",
    "    \"\"\" 简单排序，从小到大排序\"\"\"\n",
    "    items = origin_item[:]\n",
    "    for i in range(len(items)-1):\n",
    "        min_index = i\n",
    "        for j in range(i+1,len(items),1):\n",
    "            if camp(items[j],items[min_index]):\n",
    "                min_index = j\n",
    "        items[i],items[min_index]= items[min_index],items[i]\n",
    "    return items\n",
    "# 思路：计算次数为n2  时间复杂度为O(n2)\n",
    "# 每一次查找的为当前剩余项的最小值"
   ]
  },
  {
   "cell_type": "code",
   "execution_count": 66,
   "metadata": {},
   "outputs": [],
   "source": [
    "def bubble_sort(origin_item,camp=lambda x,y: x>y):\n",
    "    \"\"\" 高质量冒泡排序（搅拌排序）\"\"\"\n",
    "    # 每次有最近的两个比较，没有考虑整体，\n",
    "    # 因此需要正向一遍，反向一遍\n",
    "    items = origin_item[:]\n",
    "    for i in range(len(items)):\n",
    "        swapped = False \n",
    "        # 正向\n",
    "        for j in range(i,len(items)-1):\n",
    "            if camp(items[j],items[j+1]):\n",
    "                items[j],items[j+1] = items[j+1],items[j]  # 前后两个位置的数据互换\n",
    "                swapped=True\n",
    "        if swapped:\n",
    "            swapped = False\n",
    "            # 反向\n",
    "            for j in range(len(items)- 2 - i, i, -1):\n",
    "                if camp(items[j-1],items[j]):\n",
    "                    items[j],items[j-1] = items[j-1],items[j]\n",
    "                    swapped=True\n",
    "        if not swapped:\n",
    "            break\n",
    "    return items           "
   ]
  },
  {
   "cell_type": "code",
   "execution_count": null,
   "metadata": {},
   "outputs": [],
   "source": [
    "# stop 2019年9月5日16:28:10"
   ]
  },
  {
   "cell_type": "code",
   "execution_count": 70,
   "metadata": {},
   "outputs": [],
   "source": [
    "# 合并序列\n",
    "def merge(items1, items2, comp):\n",
    "    \"\"\"合并(将两个有序的列表合并成一个有序的列表)\"\"\"\n",
    "    items = []\n",
    "    index1, index2 = 0, 0\n",
    "    while index1 < len(items1) and index2 < len(items2):\n",
    "        if comp(items1[index1], items2[index2]):\n",
    "            items.append(items1[index1])\n",
    "            index1 += 1\n",
    "        else:\n",
    "            items.append(items2[index2])\n",
    "            index2 += 1\n",
    "    items += items1[index1:]\n",
    "    items += items2[index2:]\n",
    "    return items"
   ]
  },
  {
   "cell_type": "code",
   "execution_count": 71,
   "metadata": {},
   "outputs": [],
   "source": [
    "def merge_sort(items, comp=lambda x, y: x <= y):\n",
    "    \"\"\"归并排序(分治法)\"\"\"\n",
    "    if len(items) < 2:\n",
    "        return items[:]\n",
    "    mid = len(items) // 2\n",
    "    left = merge_sort(items[:mid], comp)\n",
    "    right = merge_sort(items[mid:], comp)\n",
    "    return merge(left, right, comp)"
   ]
  },
  {
   "cell_type": "code",
   "execution_count": 73,
   "metadata": {},
   "outputs": [
    {
     "data": {
      "text/plain": [
       "[0, 1, 2, 3, 4, 8, 10, 11]"
      ]
     },
     "execution_count": 73,
     "metadata": {},
     "output_type": "execute_result"
    }
   ],
   "source": [
    "list1 = [3,4,1,8,10,2,0,11]\n",
    "list3 = merge_sort(list1)\n",
    "list3"
   ]
  },
  {
   "cell_type": "code",
   "execution_count": 67,
   "metadata": {},
   "outputs": [
    {
     "data": {
      "text/plain": [
       "([3, 4, 1, 8, 10, 2, 0, 11],\n",
       " [0, 1, 2, 3, 4, 8, 10, 11],\n",
       " [0, 1, 2, 3, 4, 8, 10, 11])"
      ]
     },
     "execution_count": 67,
     "metadata": {},
     "output_type": "execute_result"
    }
   ],
   "source": [
    "start = time.time()\n",
    "# print(start)\n",
    "# list1 = np.random.random(10)\n",
    "\n",
    "list2 = select_sort(list1)\n",
    "# print(time.time()-start)\n",
    "list3 = bubble_sort(list1)\n",
    "end = time.time() - start\n",
    "\n",
    "list1,list2,list3\n"
   ]
  }
 ],
 "metadata": {
  "kernelspec": {
   "display_name": "Python [conda env:tf2]",
   "language": "python",
   "name": "conda-env-tf2-py"
  },
  "language_info": {
   "codemirror_mode": {
    "name": "ipython",
    "version": 3
   },
   "file_extension": ".py",
   "mimetype": "text/x-python",
   "name": "python",
   "nbconvert_exporter": "python",
   "pygments_lexer": "ipython3",
   "version": "3.7.3"
  }
 },
 "nbformat": 4,
 "nbformat_minor": 2
}
