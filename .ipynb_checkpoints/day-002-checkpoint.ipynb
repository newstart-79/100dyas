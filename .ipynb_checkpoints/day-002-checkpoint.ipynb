{
 "cells": [
  {
   "cell_type": "code",
   "execution_count": 1,
   "metadata": {},
   "outputs": [],
   "source": [
    "# 时间 2019-8-8 \n",
    "# 开始内容比较简单，且之前有看过，学习两天"
   ]
  },
  {
   "cell_type": "code",
   "execution_count": null,
   "metadata": {},
   "outputs": [],
   "source": [
    "# 1 变量和类型\n",
    "# 数据类型\n",
    "\"\"\"\n",
    "整型：在python3中整型，只有int型，支持二进制表示法（0b100：4，0o100：64，0x100：256，分别表示二进制、八进制和16进制的100对应数值）\n",
    "浮点型：小数\n",
    "字符型：使用单引号和双引号表示，具有原始字符串表示法、字节字符串表示、Unicode字符串表示方法\n",
    "布尔型：True和Fals，可以使用逻辑表达式进行\n",
    "复数型：等同数学上的表示，3+5j\n",
    "\n",
    "\"\"\"\n",
    "# 变量：实际为计算机中的一个内存空间，支持数据的读取和修改\n",
    "# 变量名：\n",
    "\"\"\"\n",
    "硬性条件：字母、数字、下划线；数字不可开头，大小写敏感；不可使用关键字和保留词\n",
    "PEP 8 要求：\n",
    "小写字母拼写，单词之间使用下划线链接\n",
    "受保护实例属性的是有下划线开头\n",
    "私有的实例属性私用双下划线开头\n",
    "\"\"\"\n",
    "\"\"\"\n",
    "# 数据类型转化\n",
    "在对变量类型进行转换时可以使用Python的内置函数（准确的说下面列出的并不是真正意义上的函数，\n",
    "而是后面我们要讲到的创建对象的构造方法）。\n",
    "\n",
    "int()：将一个数值或字符串转换成整数，可以指定进制。\n",
    "float()：将一个字符串转换成浮点数。\n",
    "str()：将指定的对象转换成字符串形式，可以指定编码。\n",
    "chr()：将整数转换成该编码对应的字符串（一个字符）。\n",
    "ord()：将字符串（一个字符）转换成对应的编码（整数）。\n",
    "\"\"\"\n",
    "\"\"\"\n",
    "# python的运算符：\n",
    "运算符   描述\n",
    "[] [:]  下标，切片\n",
    "**       指数\n",
    "~ +-     按位取反，正负号\n",
    "* / % //  乘，除，模（表示取余数），整除\n",
    "+，-     加减\n",
    ">>  <<   右移，左移\n",
    "&        按位与\n",
    "^ |      按位异或，按位或\n",
    "<= < > >=  \n",
    "==  !=   等于 ，不等于\n",
    "is  is not  身份运算符\n",
    "in  not in  成员运算符\n",
    "not  or  and   逻辑运算符\n",
    "\n",
    "\"\"\"\n",
    "# input（）： 直接用与输入的输入\n",
    "# 使用int()进行类型转换\n",
    "# 使用type()检查变量的类型"
   ]
  },
  {
   "cell_type": "code",
   "execution_count": 12,
   "metadata": {},
   "outputs": [
    {
     "name": "stdout",
     "output_type": "stream",
     "text": [
      "0.0002239982483030436\n",
      "0.0\n",
      "0.23000000000000043\n"
     ]
    }
   ],
   "source": [
    "# 简单操作运算\n",
    "a = 10.23\n",
    "b = 45670.\n",
    "print(a/b) # 单斜线除\n",
    "print(a//b) # 双斜线取余\n",
    "print(a % 5) #  % 模：取余数部分"
   ]
  },
  {
   "cell_type": "code",
   "execution_count": 8,
   "metadata": {},
   "outputs": [
    {
     "name": "stdout",
     "output_type": "stream",
     "text": [
      "请输入华氏温度：35\n",
      "对应的摄氏度为 95.0\n"
     ]
    }
   ],
   "source": [
    "# 练习1.\n",
    "# 将华氏温度转化为摄氏度\n",
    "# F = 1.8C + 32\n",
    "c = input('请输入华氏温度：')\n",
    "sc = float(c)*1.8+32\n",
    "print('对应的摄氏度为',sc)\n"
   ]
  },
  {
   "cell_type": "code",
   "execution_count": 10,
   "metadata": {},
   "outputs": [
    {
     "name": "stdout",
     "output_type": "stream",
     "text": [
      "请输入年份：2019\n",
      "False\n"
     ]
    }
   ],
   "source": [
    "# 练习3.\n",
    "# 输入年份判断是否为闰年\n",
    "# 判断条件： 能被4整除，并且不能被100蒸出；或者可以被400整除的年份\n",
    "input_year = int(input('请输入年份：'))\n",
    "output_year = (input_year%4==0 and input_year%100 !=0 or input_year%400==0) # 逻辑运算直接返回bool型\n",
    "print(output_year)"
   ]
  },
  {
   "cell_type": "code",
   "execution_count": null,
   "metadata": {},
   "outputs": [],
   "source": []
  }
 ],
 "metadata": {
  "kernelspec": {
   "display_name": "Python [conda env:tf2]",
   "language": "python",
   "name": "conda-env-tf2-py"
  },
  "language_info": {
   "codemirror_mode": {
    "name": "ipython",
    "version": 3
   },
   "file_extension": ".py",
   "mimetype": "text/x-python",
   "name": "python",
   "nbconvert_exporter": "python",
   "pygments_lexer": "ipython3",
   "version": "3.7.3"
  }
 },
 "nbformat": 4,
 "nbformat_minor": 2
}
