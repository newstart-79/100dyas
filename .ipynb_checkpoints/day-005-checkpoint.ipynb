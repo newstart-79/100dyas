{
 "cells": [
  {
   "cell_type": "code",
   "execution_count": null,
   "metadata": {},
   "outputs": [],
   "source": [
    "# 时间 2019年8月9日14:58:11\n",
    "# 构造程序逻辑"
   ]
  },
  {
   "cell_type": "code",
   "execution_count": null,
   "metadata": {},
   "outputs": [],
   "source": [
    "a = 100.0\n",
    "b = 42\n",
    "c = a/b\n",
    "cc = 20//100\n",
    "ccc = a-b\n",
    "cccc = a% b\n",
    "print(c,cc,ccc,cccc)"
   ]
  },
  {
   "cell_type": "code",
   "execution_count": 1,
   "metadata": {},
   "outputs": [
    {
     "name": "stdout",
     "output_type": "stream",
     "text": [
      "寻找水仙花数\n",
      "请输入寻找的范围，开始300\n",
      "结束500\n",
      "start:300.0,end:500.0总共有3个水仙花数:[370, 371, 407] \n",
      "请输入寻找的范围，开始300\n",
      "结束500\n",
      "start:300.0,end:500.0总共有3个水仙花数:[370, 371, 407] \n",
      "请输入寻找的范围，开始400\n",
      "结束500\n",
      "start:400.0,end:500.0总共有1个水仙花数:[407] \n",
      "你已经玩了10次，是否要退出！\n",
      "选择：1继续，2 退出2\n"
     ]
    }
   ],
   "source": [
    "# 练习1 寻找水仙花数\n",
    "# 水仙花数是指一个 3 位数，它的每个位上的数字的 3次幂之和等于它本身（例如：1^3 + 5^3+ 3^3 = 153）\n",
    "print('寻找水仙花数')\n",
    "tag = True\n",
    "flag = 0\n",
    "while tag:\n",
    "    num_list = []\n",
    "    start = float(input('请输入寻找的范围，开始'))\n",
    "    end = float(input('结束'))\n",
    "    # 判断是否为三位数\n",
    "    if start//100 == 0 or end//100 ==0:\n",
    "        print(\"输入的数据不合法,水仙花数必须是三位数！\")\n",
    "    else:\n",
    "        \n",
    "        if start >= end:\n",
    "            print('开始应该比结束小，请重新输入')\n",
    "        else:\n",
    "            count= 0 \n",
    "            flag +=1\n",
    "            for i in range(int(start),int(end),1):\n",
    "    #             print(i)\n",
    "                a,b,c = i//100,(i//10)%10,i%10\n",
    "    #             print(a,b,c)\n",
    "                i_sum = a*a*a+b*b*b+c*c*c\n",
    "    #             print(i,i_sum)\n",
    "                if i_sum == i:\n",
    "#                     print('{}是水仙花数'.format(i))\n",
    "                    count +=1\n",
    "                    num_list.append(i)\n",
    "                else:\n",
    "                    continue\n",
    "            \n",
    "            print(\"start:{},end:{}总共有{}个水仙花数:{} \".format(start,end,count,num_list))\n",
    "#             print(flag)\n",
    "    if flag>=5:\n",
    "        print('你已经玩了5次，是否要退出！')\n",
    "        while tag:\n",
    "            input_flag = input('选择：1继续，2 退出')\n",
    "            if input_flag == '1':\n",
    "                flag = 0\n",
    "                break\n",
    "            elif input_flag =='2':\n",
    "                tag=False\n",
    "            else:\n",
    "                print('选择不正确')\n",
    "                continue\n",
    "    else:\n",
    "        continue\n",
    "\n",
    "\n",
    "           "
   ]
  },
  {
   "cell_type": "code",
   "execution_count": 25,
   "metadata": {},
   "outputs": [
    {
     "data": {
      "text/plain": [
       "False"
      ]
     },
     "execution_count": 25,
     "metadata": {},
     "output_type": "execute_result"
    }
   ],
   "source": [
    "\n",
    "a,_ = select_wanmei(7)\n",
    "a "
   ]
  },
  {
   "cell_type": "code",
   "execution_count": 29,
   "metadata": {},
   "outputs": [
    {
     "name": "stdout",
     "output_type": "stream",
     "text": [
      "请输入你寻找的数值范围\n",
      "\n",
      "开始：3\n",
      "结束：59\n",
      "6是完美数\n",
      "28是完美数\n",
      "3--59共有2个完美数，分别为：[6, 28]\n",
      "是否结束：1 结束，2 继续2\n",
      "请输入你寻找的数值范围\n",
      "\n",
      "开始：3\n",
      "结束：128\n",
      "6是完美数\n",
      "28是完美数\n",
      "3--128共有2个完美数，分别为：[6, 28]\n",
      "是否结束：1 结束，2 继续2\n",
      "请输入你寻找的数值范围\n",
      "\n",
      "开始：5\n",
      "结束：500\n",
      "6是完美数\n",
      "28是完美数\n",
      "496是完美数\n",
      "5--500共有3个完美数，分别为：[6, 28, 496]\n",
      "是否结束：1 结束，2 继续1\n"
     ]
    }
   ],
   "source": [
    "# 寻找完美数：所有的真因子和等于他本身，即去除自身的公约数，其他公约数相加等于本身。（6，28）\n",
    "# 寻找公约数\n",
    "\n",
    "\n",
    "# 寻找完美数方法：\n",
    "def select_wanmei(data):\n",
    "    ys = []\n",
    "    for i in range(1,data,1):\n",
    "        if data%i==0:\n",
    "#             print(data//i)\n",
    "            ys.append(i)\n",
    "    if sum(ys)==data:\n",
    "        print(\"{}是完美数\".format(data))\n",
    "        return True,ys\n",
    "    else:\n",
    "        return False,ys\n",
    "\n",
    "tag=True\n",
    "while tag:\n",
    "    print('请输入你寻找的数值范围\\n')\n",
    "    input_start = int(input('开始：'))\n",
    "    input_end = int(input('结束：'))\n",
    "    if input_start >  input_end:\n",
    "        print('开始需要比结束大，是否需要调换开始结束数值')\n",
    "        flag = float(input('请输入你的选择，1需要，2重新输入,3不玩了'))\n",
    "        if flag == 1:\n",
    "            input_mid = input_start\n",
    "            input_start = input_end\n",
    "            input_end = input_mid\n",
    "        elif flag ==2:\n",
    "            continue\n",
    "        elif flag == 3:\n",
    "            tag = False\n",
    "        else:\n",
    "            print('输入不合法')\n",
    "    elif input_start == input_end:\n",
    "        print('开始和结束至不能相同')\n",
    "        continue\n",
    "    else:\n",
    "        add_num = 0\n",
    "        wm_list = []\n",
    "        for i in range(input_start,input_end+1,1):\n",
    "            wm,_ = select_wanmei(i)\n",
    "            if wm:\n",
    "                wm_list.append(i)\n",
    "                add_num += 1\n",
    "                wm = False\n",
    "        print('{}--{}共有{}个完美数，分别为：{}'.format(input_start,input_end,add_num,wm_list))\n",
    "        while tag:\n",
    "            input_flag = int(input('是否结束：1 结束，2 继续'))\n",
    "            if input_flag == 1:\n",
    "                tag = False\n",
    "            elif input_flag == 2:\n",
    "                break\n",
    "            else:\n",
    "                print('输入错误！')\n",
    "    "
   ]
  },
  {
   "cell_type": "code",
   "execution_count": null,
   "metadata": {},
   "outputs": [],
   "source": []
  }
 ],
 "metadata": {
  "kernelspec": {
   "display_name": "Python [conda env:tf2]",
   "language": "python",
   "name": "conda-env-tf2-py"
  },
  "language_info": {
   "codemirror_mode": {
    "name": "ipython",
    "version": 3
   },
   "file_extension": ".py",
   "mimetype": "text/x-python",
   "name": "python",
   "nbconvert_exporter": "python",
   "pygments_lexer": "ipython3",
   "version": "3.7.3"
  }
 },
 "nbformat": 4,
 "nbformat_minor": 2
}
