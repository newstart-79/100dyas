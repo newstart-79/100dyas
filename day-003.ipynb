{
 "cells": [
  {
   "cell_type": "code",
   "execution_count": 1,
   "metadata": {},
   "outputs": [],
   "source": [
    "# 时间：2019-8-9\n",
    "# 分支结构"
   ]
  },
  {
   "cell_type": "code",
   "execution_count": null,
   "metadata": {},
   "outputs": [],
   "source": [
    "# if----elif----else： 可以实现分段函数，范围是逐步缩放的，\n",
    "# if----else\n",
    "# 可以使用多层嵌套使用"
   ]
  },
  {
   "cell_type": "code",
   "execution_count": 7,
   "metadata": {},
   "outputs": [
    {
     "name": "stdout",
     "output_type": "stream",
     "text": [
      "请输入需要转化的长度 单位（厘米:cm，英寸:in）23 厘米\n",
      "['23', '厘米']\n",
      "23厘米=55.2英尺\n"
     ]
    }
   ],
   "source": [
    "# 练习1.\n",
    "#英制单位英寸和公制单位厘米互换\n",
    "# 厘米 cm  英寸 in\n",
    "yz = input('请输入需要转化的长度 单位（厘米:cm，英寸:in）').split(' ')\n",
    "print(yz)\n",
    "if yz[1] =='cm' or yz[1]=='厘米':\n",
    "    print(\"{}厘米={}英尺\".format(yz[0],round(float(yz[0])*2.4,2)))\n",
    "elif yz[1]=='in' or yz[1]=='英尺':\n",
    "    print(\"{}英尺={}厘米\".format(yz[0],round(float(yz[0])/2.4,2)))\n",
    "else:\n",
    "    print(\"你输入的数据不符合要求！\")"
   ]
  },
  {
   "cell_type": "code",
   "execution_count": 12,
   "metadata": {},
   "outputs": [
    {
     "data": {
      "text/plain": [
       "4"
      ]
     },
     "execution_count": 12,
     "metadata": {},
     "output_type": "execute_result"
    }
   ],
   "source": [
    "# 练习2.\n",
    "from random import randint\n",
    "a = randint(1,6) # 投骰子，使用了random模块的randint函数生成指定范围的随机数来模拟掷骰子\n"
   ]
  }
 ],
 "metadata": {
  "kernelspec": {
   "display_name": "Python [conda env:tf2]",
   "language": "python",
   "name": "conda-env-tf2-py"
  },
  "language_info": {
   "codemirror_mode": {
    "name": "ipython",
    "version": 3
   },
   "file_extension": ".py",
   "mimetype": "text/x-python",
   "name": "python",
   "nbconvert_exporter": "python",
   "pygments_lexer": "ipython3",
   "version": "3.7.3"
  }
 },
 "nbformat": 4,
 "nbformat_minor": 2
}
